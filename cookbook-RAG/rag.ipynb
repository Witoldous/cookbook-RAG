{
 "cells": [
  {
   "cell_type": "code",
   "execution_count": null,
   "metadata": {},
   "outputs": [],
   "source": [
    "from prompt import query_rag"
   ]
  },
  {
   "cell_type": "code",
   "execution_count": 2,
   "metadata": {},
   "outputs": [
    {
     "name": "stdout",
     "output_type": "stream",
     "text": [
      "Response:\n",
      " Name: Pieczona owsianka (Baked Oatmeal)\n",
      "   Ingredients:\n",
      "    - 150 g płatkͅw owsianych\n",
      "    - 1 jajko\n",
      "    - 1 łyżka soku z cytryny\n",
      "    - skórka starta z cytryny\n",
      "    ̏ łyžeczki proszku do pieczenia\n",
      "    - wiͅrki kokosowe\n",
      "    - ʧ0 ml mleka\n",
      "    - 20 g sosu zero kalorii (e.g. ośrodek ćerowy Baton)\n",
      "    - 130 g serka wiejskiego light\n",
      "    - 100 g owocͅw jagodowych (e.g. borͅwki, jagody, pokrojone truskawki)\n",
      "   Instructions:\n",
      "    - Combine all ingredients except for fruits in a mixing bowl and mix very well or knead. Add fruits afterwards.\n",
      "    - Transfer the mixture into a rectangular baking dish (about ʤʪʨ cm²) and sprinkle with coconut flakes.\n",
      "    - Bake for 12 minutes at 180°C (356°F).\n",
      "   Author: Kuchnia WK\n",
      "Sources: ['data\\\\kuchnia-wk-przepisnik.pdf:17:0', 'data\\\\kuchnia-wk-przepisnik.pdf:26:0', 'data\\\\kuchnia-wk-przepisnik.pdf:10:0', 'data\\\\kuchnia-wk-przepisnik.pdf:16:0', 'data\\\\kuchnia-wk-przepisnik.pdf:31:0']\n"
     ]
    }
   ],
   "source": [
    "ingredients = \"płatki owsiane, mleko\"\n",
    "recipe = query_rag(ingredients)"
   ]
  },
  {
   "cell_type": "code",
   "execution_count": null,
   "metadata": {},
   "outputs": [
    {
     "name": "stdout",
     "output_type": "stream",
     "text": [
      "Response:\n",
      " Name: WK Babeczki (Based on the provided context, it does not contain wołowina or chleb)\n",
      "   Ingredients: 3 małe jajka, ʧ5 g białek jaj, ʧ5 g szynki drobiowej, 35g sera żóltego, ¼ papryki czerwonej, żórłej, zielonej, mała cebula czerwona, sól, pieprz, oregano\n",
      "   Instructions: Wymieśaj jajka i przyprawy. Dodaj warzywa, szynkę i ser. Całość ponownie wymieszaj i przekładaj do silikonowych oremków na babeczki. Piecz ʤ minut w ʤ stopniaczu.\n",
      "\n",
      "   Name: Naleśniki z Twarogiem (Based on the provided context, it does not contain wołowina or chleb)\n",
      "   Ingredients: 2 jajka, 2 łyżki budyniu, 60 ml mleka, 10 tabletek słodzika, 150 g twarogu chudego, 20 ml mleka, 7 tabletek słodzika, 20 g rodzynek\n",
      "   Instructions: Wszystkie składniki na naleśniki zblenduj ze sobą. Naleśniki smaż na nieprzywierającej patelni. Składniki na nadzienie wymieszaj za pomocą widelca. Proponujemy podawać z ulubionymi owocami.\n",
      "\n",
      "   Name: I can't find a recipe matching the ingredients (If no suitable recipe is found)\n",
      "Sources: ['data\\\\kuchnia-wk-przepisnik.pdf:11:0', 'data\\\\kuchnia-wk-przepisnik.pdf:29:0', 'data\\\\kuchnia-wk-przepisnik.pdf:16:0', 'data\\\\kuchnia-wk-przepisnik.pdf:17:0', 'data\\\\kuchnia-wk-przepisnik.pdf:27:0']\n"
     ]
    }
   ],
   "source": [
    "ingredients = \"wołowina, chleb\"\n",
    "recipe = query_rag(ingredients)\n",
    "# not working well but in some way it works"
   ]
  },
  {
   "cell_type": "code",
   "execution_count": 4,
   "metadata": {},
   "outputs": [
    {
     "name": "stdout",
     "output_type": "stream",
     "text": [
      "Response:\n",
      " Name: Makaron BBQ\n",
      "   Ingredients:\n",
      "    - 250 g makaronu z soczewicy\n",
      "    - 3ʧ0 g kukurydzy konserwowej\n",
      "    - 225 g sera żͅłtego piͅrko\n",
      "    - 220 g piersi z kurczaka lub tofu\n",
      "    - 3 czerwone cebule\n",
      "    - 5 g oliwy z oliwekʢmasłaʢoleju\n",
      "    - sos BB˄ (np. ˆos ˍero BB˄)\n",
      "    - sͅl\n",
      "   Instructions:\n",
      "    1. Gotuj makaron w osolonej wodzie.\n",
      "    2. Na oliwie podsmaż pokrojone cebule i dopraw solą.\n",
      "    3. Dodaj pokrojone drobno mięso lub tofu oraz kukurydzę, podsmaż.\n",
      "    4. Dodaj makaronŁ ser i sos BB˄. Całość podgrzewaj do momentu roztopienia się sera.\n",
      "\n",
      "   Name: Kuchnia WK BABECZKI WYTRAWNE\n",
      "   Ingredients:\n",
      "    - 3 małe jajka\n",
      "    - ʧ5 g białek jaj (można pominą͙ dodając 3 duże jaja lub ʧ mniejsze)\n",
      "    - ʧ5 g szynki drobiowej\n",
      "    - 35g sera żͅłtego\n",
      "   - ¼ papryki czerwonej, żͅłtej, zielonej\n",
      "   - mała cebula czerwona\n",
      "   - sͅl, pieprz, oregano\n",
      "   Instructions:\n",
      "    1. SzynkęŁ ser oraz warzywa pokrͅj w drobną kostkę.\n",
      "    2. W misce umieść jajka i przyprawy.\n",
      "    3. Dodaj warzywa, szynkę i ser do jajek.\n",
      "    4. Ponownie wymieszaj i przekładaj do silikonowyc˛ ˙oremek na babeczki.\n",
      "    5. Piecz ʥʨ minut w ʤʫʣ stopniac˛.\n",
      "Sources: ['data\\\\kuchnia-wk-przepisnik.pdf:9:0', 'data\\\\kuchnia-wk-przepisnik.pdf:19:1', 'data\\\\kuchnia-wk-przepisnik.pdf:11:0', 'data\\\\kuchnia-wk-przepisnik.pdf:0:0', 'data\\\\kuchnia-wk-przepisnik.pdf:19:0']\n"
     ]
    }
   ],
   "source": [
    "ingredients = \"jajka, makaron\"\n",
    "recipe = query_rag(ingredients)"
   ]
  }
 ],
 "metadata": {
  "kernelspec": {
   "display_name": "Python 3",
   "language": "python",
   "name": "python3"
  },
  "language_info": {
   "codemirror_mode": {
    "name": "ipython",
    "version": 3
   },
   "file_extension": ".py",
   "mimetype": "text/x-python",
   "name": "python",
   "nbconvert_exporter": "python",
   "pygments_lexer": "ipython3",
   "version": "3.12.2"
  }
 },
 "nbformat": 4,
 "nbformat_minor": 2
}
